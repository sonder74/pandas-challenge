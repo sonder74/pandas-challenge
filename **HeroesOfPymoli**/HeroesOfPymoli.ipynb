{
 "cells": [
  {
   "cell_type": "markdown",
   "metadata": {},
   "source": [
    "### Note\n",
    "* Instructions have been included for each segment. You do not have to follow them exactly, but they are included to help you think through the steps."
   ]
  },
  {
   "cell_type": "code",
   "execution_count": 33,
   "metadata": {},
   "outputs": [
    {
     "data": {
      "text/html": [
       "<div>\n",
       "<style scoped>\n",
       "    .dataframe tbody tr th:only-of-type {\n",
       "        vertical-align: middle;\n",
       "    }\n",
       "\n",
       "    .dataframe tbody tr th {\n",
       "        vertical-align: top;\n",
       "    }\n",
       "\n",
       "    .dataframe thead th {\n",
       "        text-align: right;\n",
       "    }\n",
       "</style>\n",
       "<table border=\"1\" class=\"dataframe\">\n",
       "  <thead>\n",
       "    <tr style=\"text-align: right;\">\n",
       "      <th></th>\n",
       "      <th>Purchase ID</th>\n",
       "      <th>SN</th>\n",
       "      <th>Age</th>\n",
       "      <th>Gender</th>\n",
       "      <th>Item ID</th>\n",
       "      <th>Item Name</th>\n",
       "      <th>Price</th>\n",
       "    </tr>\n",
       "  </thead>\n",
       "  <tbody>\n",
       "    <tr>\n",
       "      <th>0</th>\n",
       "      <td>0</td>\n",
       "      <td>Lisim78</td>\n",
       "      <td>20</td>\n",
       "      <td>Male</td>\n",
       "      <td>108</td>\n",
       "      <td>Extraction, Quickblade Of Trembling Hands</td>\n",
       "      <td>3.53</td>\n",
       "    </tr>\n",
       "    <tr>\n",
       "      <th>1</th>\n",
       "      <td>1</td>\n",
       "      <td>Lisovynya38</td>\n",
       "      <td>40</td>\n",
       "      <td>Male</td>\n",
       "      <td>143</td>\n",
       "      <td>Frenzied Scimitar</td>\n",
       "      <td>1.56</td>\n",
       "    </tr>\n",
       "    <tr>\n",
       "      <th>2</th>\n",
       "      <td>2</td>\n",
       "      <td>Ithergue48</td>\n",
       "      <td>24</td>\n",
       "      <td>Male</td>\n",
       "      <td>92</td>\n",
       "      <td>Final Critic</td>\n",
       "      <td>4.88</td>\n",
       "    </tr>\n",
       "    <tr>\n",
       "      <th>3</th>\n",
       "      <td>3</td>\n",
       "      <td>Chamassasya86</td>\n",
       "      <td>24</td>\n",
       "      <td>Male</td>\n",
       "      <td>100</td>\n",
       "      <td>Blindscythe</td>\n",
       "      <td>3.27</td>\n",
       "    </tr>\n",
       "    <tr>\n",
       "      <th>4</th>\n",
       "      <td>4</td>\n",
       "      <td>Iskosia90</td>\n",
       "      <td>23</td>\n",
       "      <td>Male</td>\n",
       "      <td>131</td>\n",
       "      <td>Fury</td>\n",
       "      <td>1.44</td>\n",
       "    </tr>\n",
       "  </tbody>\n",
       "</table>\n",
       "</div>"
      ],
      "text/plain": [
       "   Purchase ID             SN  Age Gender  Item ID  \\\n",
       "0            0        Lisim78   20   Male      108   \n",
       "1            1    Lisovynya38   40   Male      143   \n",
       "2            2     Ithergue48   24   Male       92   \n",
       "3            3  Chamassasya86   24   Male      100   \n",
       "4            4      Iskosia90   23   Male      131   \n",
       "\n",
       "                                   Item Name  Price  \n",
       "0  Extraction, Quickblade Of Trembling Hands   3.53  \n",
       "1                          Frenzied Scimitar   1.56  \n",
       "2                               Final Critic   4.88  \n",
       "3                                Blindscythe   3.27  \n",
       "4                                       Fury   1.44  "
      ]
     },
     "execution_count": 33,
     "metadata": {},
     "output_type": "execute_result"
    }
   ],
   "source": [
    "# Dependencies and Setup\n",
    "import pandas as pd\n",
    "\n",
    "# File to Load (Remember to Change These)\n",
    "file_to_load = \"purchase_data.csv\"\n",
    "\n",
    "# Read Purchasing File and store into Pandas data frame\n",
    "purchase_data = pd.read_csv(file_to_load)\n",
    "purchase_data.head()"
   ]
  },
  {
   "cell_type": "markdown",
   "metadata": {},
   "source": [
    "## Player Count"
   ]
  },
  {
   "cell_type": "markdown",
   "metadata": {},
   "source": [
    "* Display the total number of players\n"
   ]
  },
  {
   "cell_type": "code",
   "execution_count": 34,
   "metadata": {},
   "outputs": [
    {
     "data": {
      "text/html": [
       "<div>\n",
       "<style scoped>\n",
       "    .dataframe tbody tr th:only-of-type {\n",
       "        vertical-align: middle;\n",
       "    }\n",
       "\n",
       "    .dataframe tbody tr th {\n",
       "        vertical-align: top;\n",
       "    }\n",
       "\n",
       "    .dataframe thead th {\n",
       "        text-align: right;\n",
       "    }\n",
       "</style>\n",
       "<table border=\"1\" class=\"dataframe\">\n",
       "  <thead>\n",
       "    <tr style=\"text-align: right;\">\n",
       "      <th></th>\n",
       "      <th>Total Players</th>\n",
       "    </tr>\n",
       "  </thead>\n",
       "  <tbody>\n",
       "    <tr>\n",
       "      <th>0</th>\n",
       "      <td>576</td>\n",
       "    </tr>\n",
       "  </tbody>\n",
       "</table>\n",
       "</div>"
      ],
      "text/plain": [
       "   Total Players\n",
       "0            576"
      ]
     },
     "execution_count": 34,
     "metadata": {},
     "output_type": "execute_result"
    }
   ],
   "source": [
    "unique_players = {\"Total Players\": [len(purchase_data[\"SN\"].unique())]}\n",
    "unique_players_df = pd.DataFrame(unique_players)\n",
    "unique_players_df"
   ]
  },
  {
   "cell_type": "markdown",
   "metadata": {},
   "source": [
    "## Purchasing Analysis (Total)"
   ]
  },
  {
   "cell_type": "markdown",
   "metadata": {},
   "source": [
    "* Run basic calculations to obtain number of unique items, average price, etc.\n",
    "\n",
    "\n",
    "* Create a summary data frame to hold the results\n",
    "\n",
    "\n",
    "* Optional: give the displayed data cleaner formatting\n",
    "\n",
    "\n",
    "* Display the summary data frame\n"
   ]
  },
  {
   "cell_type": "code",
   "execution_count": 35,
   "metadata": {
    "scrolled": true
   },
   "outputs": [
    {
     "data": {
      "text/html": [
       "<style  type=\"text/css\" >\n",
       "</style><table id=\"T_b2e3471e_a6a3_11ea_b6b6_acbc32a3d5bd\" ><thead>    <tr>        <th class=\"col_heading level0 col0\" >Number of Unique Items</th>        <th class=\"col_heading level0 col1\" >Average Price</th>        <th class=\"col_heading level0 col2\" >Number of Purchases</th>        <th class=\"col_heading level0 col3\" >Total Revenue</th>    </tr></thead><tbody>\n",
       "                <tr>\n",
       "                                <td id=\"T_b2e3471e_a6a3_11ea_b6b6_acbc32a3d5bdrow0_col0\" class=\"data row0 col0\" >183</td>\n",
       "                        <td id=\"T_b2e3471e_a6a3_11ea_b6b6_acbc32a3d5bdrow0_col1\" class=\"data row0 col1\" >$3.05</td>\n",
       "                        <td id=\"T_b2e3471e_a6a3_11ea_b6b6_acbc32a3d5bdrow0_col2\" class=\"data row0 col2\" >780</td>\n",
       "                        <td id=\"T_b2e3471e_a6a3_11ea_b6b6_acbc32a3d5bdrow0_col3\" class=\"data row0 col3\" >$2,379.77</td>\n",
       "            </tr>\n",
       "    </tbody></table>"
      ],
      "text/plain": [
       "<pandas.io.formats.style.Styler at 0x118a20910>"
      ]
     },
     "execution_count": 35,
     "metadata": {},
     "output_type": "execute_result"
    }
   ],
   "source": [
    "purchasing_analysis = {\"Number of Unique Items\":[len(purchase_data[\"Item ID\"].unique())], \n",
    "                       \"Average Price\":[(purchase_data[\"Price\"].mean())], \n",
    "                       \"Number of Purchases\":[len(purchase_data[\"Purchase ID\"])], \n",
    "                       \"Total Revenue\":[sum(purchase_data[\"Price\"])]}\n",
    "purchasing_analysis_df = pd.DataFrame(purchasing_analysis)\n",
    "purchasing_analysis_df = purchasing_analysis_df.style.format({\"Average Price\":\"${0:,.2f}\", \"Total Revenue\":\"${0:,.2f}\"}).hide_index()\n",
    "purchasing_analysis_df"
   ]
  },
  {
   "cell_type": "markdown",
   "metadata": {},
   "source": [
    "## Gender Demographics"
   ]
  },
  {
   "cell_type": "markdown",
   "metadata": {},
   "source": [
    "* Percentage and Count of Male Players\n",
    "\n",
    "\n",
    "* Percentage and Count of Female Players\n",
    "\n",
    "\n",
    "* Percentage and Count of Other / Non-Disclosed\n",
    "\n",
    "\n"
   ]
  },
  {
   "cell_type": "code",
   "execution_count": 36,
   "metadata": {},
   "outputs": [
    {
     "data": {
      "text/html": [
       "<style  type=\"text/css\" >\n",
       "</style><table id=\"T_ce16326c_a6a3_11ea_b6b6_acbc32a3d5bd\" ><thead>    <tr>        <th class=\"blank level0\" ></th>        <th class=\"col_heading level0 col0\" >Total Count</th>        <th class=\"col_heading level0 col1\" >Percentage of Players</th>    </tr></thead><tbody>\n",
       "                <tr>\n",
       "                        <th id=\"T_ce16326c_a6a3_11ea_b6b6_acbc32a3d5bdlevel0_row0\" class=\"row_heading level0 row0\" >Male</th>\n",
       "                        <td id=\"T_ce16326c_a6a3_11ea_b6b6_acbc32a3d5bdrow0_col0\" class=\"data row0 col0\" >484</td>\n",
       "                        <td id=\"T_ce16326c_a6a3_11ea_b6b6_acbc32a3d5bdrow0_col1\" class=\"data row0 col1\" >84.03%</td>\n",
       "            </tr>\n",
       "            <tr>\n",
       "                        <th id=\"T_ce16326c_a6a3_11ea_b6b6_acbc32a3d5bdlevel0_row1\" class=\"row_heading level0 row1\" >Female</th>\n",
       "                        <td id=\"T_ce16326c_a6a3_11ea_b6b6_acbc32a3d5bdrow1_col0\" class=\"data row1 col0\" >81</td>\n",
       "                        <td id=\"T_ce16326c_a6a3_11ea_b6b6_acbc32a3d5bdrow1_col1\" class=\"data row1 col1\" >14.06%</td>\n",
       "            </tr>\n",
       "            <tr>\n",
       "                        <th id=\"T_ce16326c_a6a3_11ea_b6b6_acbc32a3d5bdlevel0_row2\" class=\"row_heading level0 row2\" >Other / Non-Disclosed</th>\n",
       "                        <td id=\"T_ce16326c_a6a3_11ea_b6b6_acbc32a3d5bdrow2_col0\" class=\"data row2 col0\" >11</td>\n",
       "                        <td id=\"T_ce16326c_a6a3_11ea_b6b6_acbc32a3d5bdrow2_col1\" class=\"data row2 col1\" >1.91%</td>\n",
       "            </tr>\n",
       "    </tbody></table>"
      ],
      "text/plain": [
       "<pandas.io.formats.style.Styler at 0x117e74810>"
      ]
     },
     "execution_count": 36,
     "metadata": {},
     "output_type": "execute_result"
    }
   ],
   "source": [
    "deduped_df = purchase_data.drop_duplicates(subset=[\"SN\"]).groupby([\"Gender\"])\n",
    "gender_counts = deduped_df.count()\n",
    "gender_counts = gender_counts.drop([\"Purchase ID\", \"Age\", \"Item ID\", \"Item Name\", \"Price\",], axis=1).reindex([\"Male\",\"Female\",\"Other / Non-Disclosed\"]).rename(columns={\"SN\":\"Total Count\"})\n",
    "gender_counts.rename_axis(None, inplace=True)\n",
    "gender_counts[\"Percentage of Players\"] = gender_counts[\"Total Count\"] / gender_counts[\"Total Count\"].sum() * 100\n",
    "gender_counts = gender_counts.style.format({\"Percentage of Players\":\"{0:,.2f}%\"})\n",
    "gender_counts"
   ]
  },
  {
   "cell_type": "markdown",
   "metadata": {},
   "source": [
    "\n",
    "## Purchasing Analysis (Gender)"
   ]
  },
  {
   "cell_type": "markdown",
   "metadata": {},
   "source": [
    "* Run basic calculations to obtain purchase count, avg. purchase price, avg. purchase total per person etc. by gender\n",
    "\n",
    "\n",
    "\n",
    "\n",
    "* Create a summary data frame to hold the results\n",
    "\n",
    "\n",
    "* Optional: give the displayed data cleaner formatting\n",
    "\n",
    "\n",
    "* Display the summary data frame"
   ]
  },
  {
   "cell_type": "code",
   "execution_count": 37,
   "metadata": {},
   "outputs": [
    {
     "data": {
      "text/html": [
       "<style  type=\"text/css\" >\n",
       "</style><table id=\"T_d13de926_a6a3_11ea_b6b6_acbc32a3d5bd\" ><thead>    <tr>        <th class=\"blank level0\" ></th>        <th class=\"col_heading level0 col0\" >Purchase Count</th>        <th class=\"col_heading level0 col1\" >Average Purchase Price</th>        <th class=\"col_heading level0 col2\" >Total Purchase Value</th>        <th class=\"col_heading level0 col3\" >Avg Total Purchase per Person</th>    </tr>    <tr>        <th class=\"index_name level0\" >Gender</th>        <th class=\"blank\" ></th>        <th class=\"blank\" ></th>        <th class=\"blank\" ></th>        <th class=\"blank\" ></th>    </tr></thead><tbody>\n",
       "                <tr>\n",
       "                        <th id=\"T_d13de926_a6a3_11ea_b6b6_acbc32a3d5bdlevel0_row0\" class=\"row_heading level0 row0\" >Female</th>\n",
       "                        <td id=\"T_d13de926_a6a3_11ea_b6b6_acbc32a3d5bdrow0_col0\" class=\"data row0 col0\" >113</td>\n",
       "                        <td id=\"T_d13de926_a6a3_11ea_b6b6_acbc32a3d5bdrow0_col1\" class=\"data row0 col1\" >$3.20</td>\n",
       "                        <td id=\"T_d13de926_a6a3_11ea_b6b6_acbc32a3d5bdrow0_col2\" class=\"data row0 col2\" >$361.94</td>\n",
       "                        <td id=\"T_d13de926_a6a3_11ea_b6b6_acbc32a3d5bdrow0_col3\" class=\"data row0 col3\" >$4.47</td>\n",
       "            </tr>\n",
       "            <tr>\n",
       "                        <th id=\"T_d13de926_a6a3_11ea_b6b6_acbc32a3d5bdlevel0_row1\" class=\"row_heading level0 row1\" >Male</th>\n",
       "                        <td id=\"T_d13de926_a6a3_11ea_b6b6_acbc32a3d5bdrow1_col0\" class=\"data row1 col0\" >652</td>\n",
       "                        <td id=\"T_d13de926_a6a3_11ea_b6b6_acbc32a3d5bdrow1_col1\" class=\"data row1 col1\" >$3.02</td>\n",
       "                        <td id=\"T_d13de926_a6a3_11ea_b6b6_acbc32a3d5bdrow1_col2\" class=\"data row1 col2\" >$1,967.64</td>\n",
       "                        <td id=\"T_d13de926_a6a3_11ea_b6b6_acbc32a3d5bdrow1_col3\" class=\"data row1 col3\" >$4.07</td>\n",
       "            </tr>\n",
       "            <tr>\n",
       "                        <th id=\"T_d13de926_a6a3_11ea_b6b6_acbc32a3d5bdlevel0_row2\" class=\"row_heading level0 row2\" >Other / Non-Disclosed</th>\n",
       "                        <td id=\"T_d13de926_a6a3_11ea_b6b6_acbc32a3d5bdrow2_col0\" class=\"data row2 col0\" >15</td>\n",
       "                        <td id=\"T_d13de926_a6a3_11ea_b6b6_acbc32a3d5bdrow2_col1\" class=\"data row2 col1\" >$3.35</td>\n",
       "                        <td id=\"T_d13de926_a6a3_11ea_b6b6_acbc32a3d5bdrow2_col2\" class=\"data row2 col2\" >$50.19</td>\n",
       "                        <td id=\"T_d13de926_a6a3_11ea_b6b6_acbc32a3d5bdrow2_col3\" class=\"data row2 col3\" >$4.56</td>\n",
       "            </tr>\n",
       "    </tbody></table>"
      ],
      "text/plain": [
       "<pandas.io.formats.style.Styler at 0x11757e690>"
      ]
     },
     "execution_count": 37,
     "metadata": {},
     "output_type": "execute_result"
    }
   ],
   "source": [
    "female_df = purchase_data.loc[purchase_data[\"Gender\"] == \"Female\"]\n",
    "male_df = purchase_data.loc[purchase_data[\"Gender\"] == \"Male\"]\n",
    "other_df = purchase_data.loc[purchase_data[\"Gender\"] == \"Other / Non-Disclosed\"]\n",
    "\n",
    "female_reduced_df = female_df[[\"SN\", \"Price\"]]\n",
    "female_grouped = female_reduced_df.groupby([\"SN\"])\n",
    "female_sn_totals = female_grouped.sum()\n",
    "female_avg_total_pp = sum(female_sn_totals[\"Price\"]) / len(female_sn_totals[\"Price\"])\n",
    "\n",
    "male_reduced_df = male_df[[\"SN\", \"Price\"]]\n",
    "male_grouped = male_reduced_df.groupby([\"SN\"])\n",
    "male_sn_totals = male_grouped.sum()\n",
    "male_avg_total_pp = sum(male_sn_totals[\"Price\"]) / len(male_sn_totals[\"Price\"])\n",
    "\n",
    "other_reduced_df = other_df[[\"SN\", \"Price\"]]\n",
    "other_grouped = other_reduced_df.groupby([\"SN\"])\n",
    "other_sn_totals = other_grouped.sum()\n",
    "other_avg_total_pp = sum(other_sn_totals[\"Price\"]) / len(other_sn_totals[\"Price\"])\n",
    "\n",
    "gender_summary_df = pd.DataFrame({\"Gender\": [\"Female\", \"Male\", \"Other / Non-Disclosed\"],\n",
    "                                  \"Purchase Count\": [len(female_df[\"Purchase ID\"]), len(male_df[\"Purchase ID\"]), len(other_df[\"Purchase ID\"])],\n",
    "                                  \"Average Purchase Price\": [female_df[\"Price\"].mean(), male_df[\"Price\"].mean(), other_df[\"Price\"].mean()],\n",
    "                                  \"Total Purchase Value\": [sum(female_df[\"Price\"]), sum(male_df[\"Price\"]), sum(other_df[\"Price\"])],\n",
    "                                  \"Avg Total Purchase per Person\": [female_avg_total_pp, male_avg_total_pp, other_avg_total_pp]})\n",
    "\n",
    "gender_summary_df = gender_summary_df.set_index(\"Gender\")\n",
    "gender_summary_df = gender_summary_df.style.format({\"Average Purchase Price\": \"${0:,.2f}\",\n",
    "                                                    \"Total Purchase Value\": \"${0:,.2f}\",\n",
    "                                                    \"Avg Total Purchase per Person\": \"${0:,.2f}\"})\n",
    "gender_summary_df"
   ]
  },
  {
   "cell_type": "markdown",
   "metadata": {},
   "source": [
    "## Age Demographics"
   ]
  },
  {
   "cell_type": "markdown",
   "metadata": {},
   "source": [
    "* Establish bins for ages\n",
    "\n",
    "\n",
    "* Categorize the existing players using the age bins. Hint: use pd.cut()\n",
    "\n",
    "\n",
    "* Calculate the numbers and percentages by age group\n",
    "\n",
    "\n",
    "* Create a summary data frame to hold the results\n",
    "\n",
    "\n",
    "* Optional: round the percentage column to two decimal points\n",
    "\n",
    "\n",
    "* Display Age Demographics Table\n"
   ]
  },
  {
   "cell_type": "code",
   "execution_count": 38,
   "metadata": {},
   "outputs": [
    {
     "name": "stderr",
     "output_type": "stream",
     "text": [
      "/Applications/anaconda3/lib/python3.7/site-packages/ipykernel_launcher.py:4: SettingWithCopyWarning: \n",
      "A value is trying to be set on a copy of a slice from a DataFrame.\n",
      "Try using .loc[row_indexer,col_indexer] = value instead\n",
      "\n",
      "See the caveats in the documentation: https://pandas.pydata.org/pandas-docs/stable/user_guide/indexing.html#returning-a-view-versus-a-copy\n",
      "  after removing the cwd from sys.path.\n"
     ]
    },
    {
     "data": {
      "text/html": [
       "<style  type=\"text/css\" >\n",
       "</style><table id=\"T_df262d3c_a6a3_11ea_b6b6_acbc32a3d5bd\" ><thead>    <tr>        <th class=\"blank level0\" ></th>        <th class=\"col_heading level0 col0\" >Total Count</th>        <th class=\"col_heading level0 col1\" >Percentage of Players</th>    </tr></thead><tbody>\n",
       "                <tr>\n",
       "                        <th id=\"T_df262d3c_a6a3_11ea_b6b6_acbc32a3d5bdlevel0_row0\" class=\"row_heading level0 row0\" ><10</th>\n",
       "                        <td id=\"T_df262d3c_a6a3_11ea_b6b6_acbc32a3d5bdrow0_col0\" class=\"data row0 col0\" >17</td>\n",
       "                        <td id=\"T_df262d3c_a6a3_11ea_b6b6_acbc32a3d5bdrow0_col1\" class=\"data row0 col1\" >2.95%</td>\n",
       "            </tr>\n",
       "            <tr>\n",
       "                        <th id=\"T_df262d3c_a6a3_11ea_b6b6_acbc32a3d5bdlevel0_row1\" class=\"row_heading level0 row1\" >10-14</th>\n",
       "                        <td id=\"T_df262d3c_a6a3_11ea_b6b6_acbc32a3d5bdrow1_col0\" class=\"data row1 col0\" >22</td>\n",
       "                        <td id=\"T_df262d3c_a6a3_11ea_b6b6_acbc32a3d5bdrow1_col1\" class=\"data row1 col1\" >3.82%</td>\n",
       "            </tr>\n",
       "            <tr>\n",
       "                        <th id=\"T_df262d3c_a6a3_11ea_b6b6_acbc32a3d5bdlevel0_row2\" class=\"row_heading level0 row2\" >15-19</th>\n",
       "                        <td id=\"T_df262d3c_a6a3_11ea_b6b6_acbc32a3d5bdrow2_col0\" class=\"data row2 col0\" >107</td>\n",
       "                        <td id=\"T_df262d3c_a6a3_11ea_b6b6_acbc32a3d5bdrow2_col1\" class=\"data row2 col1\" >18.58%</td>\n",
       "            </tr>\n",
       "            <tr>\n",
       "                        <th id=\"T_df262d3c_a6a3_11ea_b6b6_acbc32a3d5bdlevel0_row3\" class=\"row_heading level0 row3\" >20-24</th>\n",
       "                        <td id=\"T_df262d3c_a6a3_11ea_b6b6_acbc32a3d5bdrow3_col0\" class=\"data row3 col0\" >258</td>\n",
       "                        <td id=\"T_df262d3c_a6a3_11ea_b6b6_acbc32a3d5bdrow3_col1\" class=\"data row3 col1\" >44.79%</td>\n",
       "            </tr>\n",
       "            <tr>\n",
       "                        <th id=\"T_df262d3c_a6a3_11ea_b6b6_acbc32a3d5bdlevel0_row4\" class=\"row_heading level0 row4\" >25-29</th>\n",
       "                        <td id=\"T_df262d3c_a6a3_11ea_b6b6_acbc32a3d5bdrow4_col0\" class=\"data row4 col0\" >77</td>\n",
       "                        <td id=\"T_df262d3c_a6a3_11ea_b6b6_acbc32a3d5bdrow4_col1\" class=\"data row4 col1\" >13.37%</td>\n",
       "            </tr>\n",
       "            <tr>\n",
       "                        <th id=\"T_df262d3c_a6a3_11ea_b6b6_acbc32a3d5bdlevel0_row5\" class=\"row_heading level0 row5\" >30-34</th>\n",
       "                        <td id=\"T_df262d3c_a6a3_11ea_b6b6_acbc32a3d5bdrow5_col0\" class=\"data row5 col0\" >52</td>\n",
       "                        <td id=\"T_df262d3c_a6a3_11ea_b6b6_acbc32a3d5bdrow5_col1\" class=\"data row5 col1\" >9.03%</td>\n",
       "            </tr>\n",
       "            <tr>\n",
       "                        <th id=\"T_df262d3c_a6a3_11ea_b6b6_acbc32a3d5bdlevel0_row6\" class=\"row_heading level0 row6\" >35-39</th>\n",
       "                        <td id=\"T_df262d3c_a6a3_11ea_b6b6_acbc32a3d5bdrow6_col0\" class=\"data row6 col0\" >31</td>\n",
       "                        <td id=\"T_df262d3c_a6a3_11ea_b6b6_acbc32a3d5bdrow6_col1\" class=\"data row6 col1\" >5.38%</td>\n",
       "            </tr>\n",
       "            <tr>\n",
       "                        <th id=\"T_df262d3c_a6a3_11ea_b6b6_acbc32a3d5bdlevel0_row7\" class=\"row_heading level0 row7\" >40+</th>\n",
       "                        <td id=\"T_df262d3c_a6a3_11ea_b6b6_acbc32a3d5bdrow7_col0\" class=\"data row7 col0\" >12</td>\n",
       "                        <td id=\"T_df262d3c_a6a3_11ea_b6b6_acbc32a3d5bdrow7_col1\" class=\"data row7 col1\" >2.08%</td>\n",
       "            </tr>\n",
       "    </tbody></table>"
      ],
      "text/plain": [
       "<pandas.io.formats.style.Styler at 0x107394910>"
      ]
     },
     "execution_count": 38,
     "metadata": {},
     "output_type": "execute_result"
    }
   ],
   "source": [
    "deduped_players = purchase_data.drop_duplicates(subset = [\"SN\"])\n",
    "bins = [-1, 9, 14, 19, 24, 29, 34, 39, 500]\n",
    "bin_labels = [\"<10\", \"10-14\", \"15-19\", \"20-24\", \"25-29\", \"30-34\", \"35-39\", \"40+\"]\n",
    "deduped_players[\"Age Bin\"] = pd.cut(deduped_players[\"Age\"], bins, labels=bin_labels)\n",
    "binned_players = deduped_players.drop([\"SN\", \"Age\", \"Gender\", \"Item ID\", \"Item Name\", \"Price\"], axis=1).groupby([\"Age Bin\"])\n",
    "bins_summary = binned_players.count()\n",
    "bins_summary.rename_axis(None, inplace=True)\n",
    "bins_summary = bins_summary.rename(columns={\"Purchase ID\": \"Total Count\"})\n",
    "bins_summary[\"Percentage of Players\"] = bins_summary[\"Total Count\"] / sum(bins_summary[\"Total Count\"]) * 100\n",
    "bins_summary = bins_summary.style.format({\"Percentage of Players\": \"{0:,.2f}%\"})\n",
    "bins_summary\n",
    "\n",
    "\n"
   ]
  },
  {
   "cell_type": "markdown",
   "metadata": {},
   "source": [
    "## Purchasing Analysis (Age)"
   ]
  },
  {
   "cell_type": "markdown",
   "metadata": {},
   "source": [
    "* Bin the purchase_data data frame by age\n",
    "\n",
    "\n",
    "* Run basic calculations to obtain purchase count, avg. purchase price, avg. purchase total per person etc. in the table below\n",
    "\n",
    "\n",
    "* Create a summary data frame to hold the results\n",
    "\n",
    "\n",
    "* Optional: give the displayed data cleaner formatting\n",
    "\n",
    "\n",
    "* Display the summary data frame"
   ]
  },
  {
   "cell_type": "code",
   "execution_count": 39,
   "metadata": {},
   "outputs": [
    {
     "data": {
      "text/html": [
       "<style  type=\"text/css\" >\n",
       "</style><table id=\"T_ee9d7fea_a6a3_11ea_b6b6_acbc32a3d5bd\" ><thead>    <tr>        <th class=\"blank level0\" ></th>        <th class=\"col_heading level0 col0\" >Purchase Count</th>        <th class=\"col_heading level0 col1\" >Average Purchase Price</th>        <th class=\"col_heading level0 col2\" >Total Purchase Value</th>        <th class=\"col_heading level0 col3\" >Avg Total Purchase per Person</th>    </tr>    <tr>        <th class=\"index_name level0\" >Age Ranges</th>        <th class=\"blank\" ></th>        <th class=\"blank\" ></th>        <th class=\"blank\" ></th>        <th class=\"blank\" ></th>    </tr></thead><tbody>\n",
       "                <tr>\n",
       "                        <th id=\"T_ee9d7fea_a6a3_11ea_b6b6_acbc32a3d5bdlevel0_row0\" class=\"row_heading level0 row0\" ><10</th>\n",
       "                        <td id=\"T_ee9d7fea_a6a3_11ea_b6b6_acbc32a3d5bdrow0_col0\" class=\"data row0 col0\" >23</td>\n",
       "                        <td id=\"T_ee9d7fea_a6a3_11ea_b6b6_acbc32a3d5bdrow0_col1\" class=\"data row0 col1\" >$3.35</td>\n",
       "                        <td id=\"T_ee9d7fea_a6a3_11ea_b6b6_acbc32a3d5bdrow0_col2\" class=\"data row0 col2\" >$77.13</td>\n",
       "                        <td id=\"T_ee9d7fea_a6a3_11ea_b6b6_acbc32a3d5bdrow0_col3\" class=\"data row0 col3\" >$4.54</td>\n",
       "            </tr>\n",
       "            <tr>\n",
       "                        <th id=\"T_ee9d7fea_a6a3_11ea_b6b6_acbc32a3d5bdlevel0_row1\" class=\"row_heading level0 row1\" >10-14</th>\n",
       "                        <td id=\"T_ee9d7fea_a6a3_11ea_b6b6_acbc32a3d5bdrow1_col0\" class=\"data row1 col0\" >28</td>\n",
       "                        <td id=\"T_ee9d7fea_a6a3_11ea_b6b6_acbc32a3d5bdrow1_col1\" class=\"data row1 col1\" >$2.96</td>\n",
       "                        <td id=\"T_ee9d7fea_a6a3_11ea_b6b6_acbc32a3d5bdrow1_col2\" class=\"data row1 col2\" >$82.78</td>\n",
       "                        <td id=\"T_ee9d7fea_a6a3_11ea_b6b6_acbc32a3d5bdrow1_col3\" class=\"data row1 col3\" >$3.76</td>\n",
       "            </tr>\n",
       "            <tr>\n",
       "                        <th id=\"T_ee9d7fea_a6a3_11ea_b6b6_acbc32a3d5bdlevel0_row2\" class=\"row_heading level0 row2\" >15-19</th>\n",
       "                        <td id=\"T_ee9d7fea_a6a3_11ea_b6b6_acbc32a3d5bdrow2_col0\" class=\"data row2 col0\" >136</td>\n",
       "                        <td id=\"T_ee9d7fea_a6a3_11ea_b6b6_acbc32a3d5bdrow2_col1\" class=\"data row2 col1\" >$3.04</td>\n",
       "                        <td id=\"T_ee9d7fea_a6a3_11ea_b6b6_acbc32a3d5bdrow2_col2\" class=\"data row2 col2\" >$412.89</td>\n",
       "                        <td id=\"T_ee9d7fea_a6a3_11ea_b6b6_acbc32a3d5bdrow2_col3\" class=\"data row2 col3\" >$3.86</td>\n",
       "            </tr>\n",
       "            <tr>\n",
       "                        <th id=\"T_ee9d7fea_a6a3_11ea_b6b6_acbc32a3d5bdlevel0_row3\" class=\"row_heading level0 row3\" >20-24</th>\n",
       "                        <td id=\"T_ee9d7fea_a6a3_11ea_b6b6_acbc32a3d5bdrow3_col0\" class=\"data row3 col0\" >365</td>\n",
       "                        <td id=\"T_ee9d7fea_a6a3_11ea_b6b6_acbc32a3d5bdrow3_col1\" class=\"data row3 col1\" >$3.05</td>\n",
       "                        <td id=\"T_ee9d7fea_a6a3_11ea_b6b6_acbc32a3d5bdrow3_col2\" class=\"data row3 col2\" >$1,114.06</td>\n",
       "                        <td id=\"T_ee9d7fea_a6a3_11ea_b6b6_acbc32a3d5bdrow3_col3\" class=\"data row3 col3\" >$4.32</td>\n",
       "            </tr>\n",
       "            <tr>\n",
       "                        <th id=\"T_ee9d7fea_a6a3_11ea_b6b6_acbc32a3d5bdlevel0_row4\" class=\"row_heading level0 row4\" >25-29</th>\n",
       "                        <td id=\"T_ee9d7fea_a6a3_11ea_b6b6_acbc32a3d5bdrow4_col0\" class=\"data row4 col0\" >101</td>\n",
       "                        <td id=\"T_ee9d7fea_a6a3_11ea_b6b6_acbc32a3d5bdrow4_col1\" class=\"data row4 col1\" >$2.90</td>\n",
       "                        <td id=\"T_ee9d7fea_a6a3_11ea_b6b6_acbc32a3d5bdrow4_col2\" class=\"data row4 col2\" >$293.00</td>\n",
       "                        <td id=\"T_ee9d7fea_a6a3_11ea_b6b6_acbc32a3d5bdrow4_col3\" class=\"data row4 col3\" >$3.81</td>\n",
       "            </tr>\n",
       "            <tr>\n",
       "                        <th id=\"T_ee9d7fea_a6a3_11ea_b6b6_acbc32a3d5bdlevel0_row5\" class=\"row_heading level0 row5\" >30-34</th>\n",
       "                        <td id=\"T_ee9d7fea_a6a3_11ea_b6b6_acbc32a3d5bdrow5_col0\" class=\"data row5 col0\" >73</td>\n",
       "                        <td id=\"T_ee9d7fea_a6a3_11ea_b6b6_acbc32a3d5bdrow5_col1\" class=\"data row5 col1\" >$2.93</td>\n",
       "                        <td id=\"T_ee9d7fea_a6a3_11ea_b6b6_acbc32a3d5bdrow5_col2\" class=\"data row5 col2\" >$214.00</td>\n",
       "                        <td id=\"T_ee9d7fea_a6a3_11ea_b6b6_acbc32a3d5bdrow5_col3\" class=\"data row5 col3\" >$4.12</td>\n",
       "            </tr>\n",
       "            <tr>\n",
       "                        <th id=\"T_ee9d7fea_a6a3_11ea_b6b6_acbc32a3d5bdlevel0_row6\" class=\"row_heading level0 row6\" >35-39</th>\n",
       "                        <td id=\"T_ee9d7fea_a6a3_11ea_b6b6_acbc32a3d5bdrow6_col0\" class=\"data row6 col0\" >41</td>\n",
       "                        <td id=\"T_ee9d7fea_a6a3_11ea_b6b6_acbc32a3d5bdrow6_col1\" class=\"data row6 col1\" >$3.60</td>\n",
       "                        <td id=\"T_ee9d7fea_a6a3_11ea_b6b6_acbc32a3d5bdrow6_col2\" class=\"data row6 col2\" >$147.67</td>\n",
       "                        <td id=\"T_ee9d7fea_a6a3_11ea_b6b6_acbc32a3d5bdrow6_col3\" class=\"data row6 col3\" >$4.76</td>\n",
       "            </tr>\n",
       "            <tr>\n",
       "                        <th id=\"T_ee9d7fea_a6a3_11ea_b6b6_acbc32a3d5bdlevel0_row7\" class=\"row_heading level0 row7\" >40+</th>\n",
       "                        <td id=\"T_ee9d7fea_a6a3_11ea_b6b6_acbc32a3d5bdrow7_col0\" class=\"data row7 col0\" >13</td>\n",
       "                        <td id=\"T_ee9d7fea_a6a3_11ea_b6b6_acbc32a3d5bdrow7_col1\" class=\"data row7 col1\" >$2.94</td>\n",
       "                        <td id=\"T_ee9d7fea_a6a3_11ea_b6b6_acbc32a3d5bdrow7_col2\" class=\"data row7 col2\" >$38.24</td>\n",
       "                        <td id=\"T_ee9d7fea_a6a3_11ea_b6b6_acbc32a3d5bdrow7_col3\" class=\"data row7 col3\" >$3.19</td>\n",
       "            </tr>\n",
       "    </tbody></table>"
      ],
      "text/plain": [
       "<pandas.io.formats.style.Styler at 0x1187b3110>"
      ]
     },
     "execution_count": 39,
     "metadata": {},
     "output_type": "execute_result"
    }
   ],
   "source": [
    "bins = [-1, 9, 14, 19, 24, 29, 34, 39, 500]\n",
    "bin_labels = [\"<10\", \"10-14\", \"15-19\", \"20-24\", \"25-29\", \"30-34\", \"35-39\", \"40+\"]\n",
    "purchase_data[\"Age Bin\"] = pd.cut(purchase_data[\"Age\"], bins, labels=bin_labels)\n",
    "\n",
    "\n",
    "age_under_10 = purchase_data.loc[purchase_data[\"Age Bin\"] == \"<10\"]\n",
    "age_10_14 = purchase_data.loc[purchase_data[\"Age Bin\"] == \"10-14\"]\n",
    "age_15_19 = purchase_data.loc[purchase_data[\"Age Bin\"] == \"15-19\"]\n",
    "age_20_24 = purchase_data.loc[purchase_data[\"Age Bin\"] == \"20-24\"]\n",
    "age_25_29 = purchase_data.loc[purchase_data[\"Age Bin\"] == \"25-29\"]\n",
    "age_30_34 = purchase_data.loc[purchase_data[\"Age Bin\"] == \"30-34\"]\n",
    "age_35_39 = purchase_data.loc[purchase_data[\"Age Bin\"] == \"35-39\"]\n",
    "age_over_39 = purchase_data.loc[purchase_data[\"Age Bin\"] == \"40+\"]\n",
    "\n",
    "\n",
    "age_under_10_reduced = age_under_10[[\"SN\", \"Price\"]]\n",
    "age_under_10_grouped = age_under_10_reduced.groupby([\"SN\"])\n",
    "age_under_10_sn_totals = age_under_10_grouped.sum()\n",
    "age_under_10_avg_total_pp = sum(age_under_10_sn_totals[\"Price\"]) / len(age_under_10_sn_totals[\"Price\"])\n",
    "\n",
    "age_10_14_reduced = age_10_14[[\"SN\", \"Price\"]]\n",
    "age_10_14_grouped = age_10_14_reduced.groupby([\"SN\"])\n",
    "age_10_14_sn_totals = age_10_14_grouped.sum()\n",
    "age_10_14_avg_total_pp = sum(age_10_14_sn_totals[\"Price\"]) / len(age_10_14_sn_totals[\"Price\"])\n",
    "\n",
    "age_15_19_reduced = age_15_19[[\"SN\", \"Price\"]]\n",
    "age_15_19_grouped = age_15_19_reduced.groupby([\"SN\"])\n",
    "age_15_19_sn_totals = age_15_19_grouped.sum()\n",
    "age_15_19_avg_total_pp = sum(age_15_19_sn_totals[\"Price\"]) / len(age_15_19_sn_totals[\"Price\"])\n",
    "\n",
    "age_20_24_reduced = age_20_24[[\"SN\", \"Price\"]]\n",
    "age_20_24_grouped = age_20_24_reduced.groupby([\"SN\"])\n",
    "age_20_24_sn_totals = age_20_24_grouped.sum()\n",
    "age_20_24_avg_total_pp = sum(age_20_24_sn_totals[\"Price\"]) / len(age_20_24_sn_totals[\"Price\"])\n",
    "\n",
    "age_25_29_reduced = age_25_29[[\"SN\", \"Price\"]]\n",
    "age_25_29_grouped = age_25_29_reduced.groupby([\"SN\"])\n",
    "age_25_29_sn_totals = age_25_29_grouped.sum()\n",
    "age_25_29_avg_total_pp = sum(age_25_29_sn_totals[\"Price\"]) / len(age_25_29_sn_totals[\"Price\"])\n",
    "\n",
    "age_30_34_reduced = age_30_34[[\"SN\", \"Price\"]]\n",
    "age_30_34_grouped = age_30_34_reduced.groupby([\"SN\"])\n",
    "age_30_34_sn_totals = age_30_34_grouped.sum()\n",
    "age_30_34_avg_total_pp = sum(age_30_34_sn_totals[\"Price\"]) / len(age_30_34_sn_totals[\"Price\"])\n",
    "\n",
    "age_35_39_reduced = age_35_39[[\"SN\", \"Price\"]]\n",
    "age_35_39_grouped = age_35_39_reduced.groupby([\"SN\"])\n",
    "age_35_39_sn_totals = age_35_39_grouped.sum()\n",
    "age_35_39_avg_total_pp = sum(age_35_39_sn_totals[\"Price\"]) / len(age_35_39_sn_totals[\"Price\"])\n",
    "\n",
    "age_over_39_reduced = age_over_39[[\"SN\", \"Price\"]]\n",
    "age_over_39_grouped = age_over_39_reduced.groupby([\"SN\"])\n",
    "age_over_39_sn_totals = age_over_39_grouped.sum()\n",
    "age_over_39_avg_total_pp = sum(age_over_39_sn_totals[\"Price\"]) / len(age_over_39_sn_totals[\"Price\"])\n",
    "\n",
    "\n",
    "age_summary = pd.DataFrame({\"Age Ranges\": [\"<10\", \"10-14\", \"15-19\", \"20-24\", \"25-29\", \"30-34\", \"35-39\", \"40+\"],\n",
    "                            \"Purchase Count\": [len(age_under_10[\"Purchase ID\"]), len(age_10_14[\"Purchase ID\"]), len(age_15_19[\"Purchase ID\"]), len(age_20_24[\"Purchase ID\"]), len(age_25_29[\"Purchase ID\"]), len(age_30_34[\"Purchase ID\"]), len(age_35_39[\"Purchase ID\"]), len(age_over_39[\"Purchase ID\"])],\n",
    "                            \"Average Purchase Price\": [age_under_10[\"Price\"].mean(), age_10_14[\"Price\"].mean(), age_15_19[\"Price\"].mean(), age_20_24[\"Price\"].mean(), age_25_29[\"Price\"].mean(), age_30_34[\"Price\"].mean(), age_35_39[\"Price\"].mean(), age_over_39[\"Price\"].mean()],\n",
    "                            \"Total Purchase Value\": [sum(age_under_10[\"Price\"]), sum(age_10_14[\"Price\"]), sum(age_15_19[\"Price\"]), sum(age_20_24[\"Price\"]), sum(age_25_29[\"Price\"]), sum(age_30_34[\"Price\"]), sum(age_35_39[\"Price\"]), sum(age_over_39[\"Price\"])],\n",
    "                            \"Avg Total Purchase per Person\": [age_under_10_avg_total_pp, age_10_14_avg_total_pp, age_15_19_avg_total_pp, age_20_24_avg_total_pp, age_25_29_avg_total_pp, age_30_34_avg_total_pp, age_35_39_avg_total_pp, age_over_39_avg_total_pp]})\n",
    "\n",
    "age_summary = age_summary.set_index([\"Age Ranges\"]).style.format({\"Average Purchase Price\": \"${0:,.2f}\", \"Total Purchase Value\": \"${0:,.2f}\", \"Avg Total Purchase per Person\": \"${0:,.2f}\"})\n",
    "\n",
    "age_summary\n",
    "\n",
    "\n"
   ]
  },
  {
   "cell_type": "markdown",
   "metadata": {},
   "source": [
    "## Top Spenders"
   ]
  },
  {
   "cell_type": "markdown",
   "metadata": {},
   "source": [
    "* Run basic calculations to obtain the results in the table below\n",
    "\n",
    "\n",
    "* Create a summary data frame to hold the results\n",
    "\n",
    "\n",
    "* Sort the total purchase value column in descending order\n",
    "\n",
    "\n",
    "* Optional: give the displayed data cleaner formatting\n",
    "\n",
    "\n",
    "* Display a preview of the summary data frame\n",
    "\n"
   ]
  },
  {
   "cell_type": "code",
   "execution_count": 40,
   "metadata": {},
   "outputs": [
    {
     "data": {
      "text/html": [
       "<style  type=\"text/css\" >\n",
       "</style><table id=\"T_0cc0899a_a6a4_11ea_b6b6_acbc32a3d5bd\" ><thead>    <tr>        <th class=\"blank level0\" ></th>        <th class=\"col_heading level0 col0\" >Purchase Count</th>        <th class=\"col_heading level0 col1\" >Average Purchase Price</th>        <th class=\"col_heading level0 col2\" >Total Purchase Value</th>    </tr>    <tr>        <th class=\"index_name level0\" >SN</th>        <th class=\"blank\" ></th>        <th class=\"blank\" ></th>        <th class=\"blank\" ></th>    </tr></thead><tbody>\n",
       "                <tr>\n",
       "                        <th id=\"T_0cc0899a_a6a4_11ea_b6b6_acbc32a3d5bdlevel0_row0\" class=\"row_heading level0 row0\" >Lisosia93</th>\n",
       "                        <td id=\"T_0cc0899a_a6a4_11ea_b6b6_acbc32a3d5bdrow0_col0\" class=\"data row0 col0\" >5</td>\n",
       "                        <td id=\"T_0cc0899a_a6a4_11ea_b6b6_acbc32a3d5bdrow0_col1\" class=\"data row0 col1\" >$3.79</td>\n",
       "                        <td id=\"T_0cc0899a_a6a4_11ea_b6b6_acbc32a3d5bdrow0_col2\" class=\"data row0 col2\" >$18.96</td>\n",
       "            </tr>\n",
       "            <tr>\n",
       "                        <th id=\"T_0cc0899a_a6a4_11ea_b6b6_acbc32a3d5bdlevel0_row1\" class=\"row_heading level0 row1\" >Idastidru52</th>\n",
       "                        <td id=\"T_0cc0899a_a6a4_11ea_b6b6_acbc32a3d5bdrow1_col0\" class=\"data row1 col0\" >4</td>\n",
       "                        <td id=\"T_0cc0899a_a6a4_11ea_b6b6_acbc32a3d5bdrow1_col1\" class=\"data row1 col1\" >$3.86</td>\n",
       "                        <td id=\"T_0cc0899a_a6a4_11ea_b6b6_acbc32a3d5bdrow1_col2\" class=\"data row1 col2\" >$15.45</td>\n",
       "            </tr>\n",
       "            <tr>\n",
       "                        <th id=\"T_0cc0899a_a6a4_11ea_b6b6_acbc32a3d5bdlevel0_row2\" class=\"row_heading level0 row2\" >Chamjask73</th>\n",
       "                        <td id=\"T_0cc0899a_a6a4_11ea_b6b6_acbc32a3d5bdrow2_col0\" class=\"data row2 col0\" >3</td>\n",
       "                        <td id=\"T_0cc0899a_a6a4_11ea_b6b6_acbc32a3d5bdrow2_col1\" class=\"data row2 col1\" >$4.61</td>\n",
       "                        <td id=\"T_0cc0899a_a6a4_11ea_b6b6_acbc32a3d5bdrow2_col2\" class=\"data row2 col2\" >$13.83</td>\n",
       "            </tr>\n",
       "            <tr>\n",
       "                        <th id=\"T_0cc0899a_a6a4_11ea_b6b6_acbc32a3d5bdlevel0_row3\" class=\"row_heading level0 row3\" >Iral74</th>\n",
       "                        <td id=\"T_0cc0899a_a6a4_11ea_b6b6_acbc32a3d5bdrow3_col0\" class=\"data row3 col0\" >4</td>\n",
       "                        <td id=\"T_0cc0899a_a6a4_11ea_b6b6_acbc32a3d5bdrow3_col1\" class=\"data row3 col1\" >$3.40</td>\n",
       "                        <td id=\"T_0cc0899a_a6a4_11ea_b6b6_acbc32a3d5bdrow3_col2\" class=\"data row3 col2\" >$13.62</td>\n",
       "            </tr>\n",
       "            <tr>\n",
       "                        <th id=\"T_0cc0899a_a6a4_11ea_b6b6_acbc32a3d5bdlevel0_row4\" class=\"row_heading level0 row4\" >Iskadarya95</th>\n",
       "                        <td id=\"T_0cc0899a_a6a4_11ea_b6b6_acbc32a3d5bdrow4_col0\" class=\"data row4 col0\" >3</td>\n",
       "                        <td id=\"T_0cc0899a_a6a4_11ea_b6b6_acbc32a3d5bdrow4_col1\" class=\"data row4 col1\" >$4.37</td>\n",
       "                        <td id=\"T_0cc0899a_a6a4_11ea_b6b6_acbc32a3d5bdrow4_col2\" class=\"data row4 col2\" >$13.10</td>\n",
       "            </tr>\n",
       "    </tbody></table>"
      ],
      "text/plain": [
       "<pandas.io.formats.style.Styler at 0x118797d50>"
      ]
     },
     "execution_count": 40,
     "metadata": {},
     "output_type": "execute_result"
    }
   ],
   "source": [
    "SN_data = purchase_data.groupby([\"SN\"])\n",
    "SN_sums = SN_data.sum()\n",
    "SN_sums = SN_sums.sort_values([\"Price\"], ascending=False)\n",
    "SN_sums = SN_sums.reset_index()\n",
    "\n",
    "first_buyer = SN_sums.iloc[0,0]\n",
    "second_buyer = SN_sums.iloc[1,0]\n",
    "third_buyer = SN_sums.iloc[2,0]\n",
    "fourth_buyer = SN_sums.iloc[3,0]\n",
    "fifth_buyer = SN_sums.iloc[4,0]\n",
    "\n",
    "first_buyer_data = purchase_data.loc[purchase_data[\"SN\"] == first_buyer]\n",
    "second_buyer_data = purchase_data.loc[purchase_data[\"SN\"] == second_buyer]\n",
    "third_buyer_data = purchase_data.loc[purchase_data[\"SN\"] == third_buyer]\n",
    "fourth_buyer_data = purchase_data.loc[purchase_data[\"SN\"] == fourth_buyer]\n",
    "fifth_buyer_data = purchase_data.loc[purchase_data[\"SN\"] == fifth_buyer]\n",
    "\n",
    "top_spenders_data = pd.DataFrame({\"SN\": [first_buyer, second_buyer, third_buyer, fourth_buyer, fifth_buyer],\n",
    "                                  \"Purchase Count\": [len(first_buyer_data), len(second_buyer_data), len(third_buyer_data), len(fourth_buyer_data), len(fifth_buyer_data)],\n",
    "                                  \"Average Purchase Price\": [sum(first_buyer_data[\"Price\"]) / len(first_buyer_data[\"Price\"]), sum(second_buyer_data[\"Price\"]) / len(second_buyer_data[\"Price\"]), sum(third_buyer_data[\"Price\"]) / len(third_buyer_data[\"Price\"]), sum(fourth_buyer_data[\"Price\"]) / len(fourth_buyer_data[\"Price\"]), sum(fifth_buyer_data[\"Price\"]) / len(fifth_buyer_data[\"Price\"])],\n",
    "                                  \"Total Purchase Value\": [sum(first_buyer_data[\"Price\"]), sum(second_buyer_data[\"Price\"]), sum(third_buyer_data[\"Price\"]), sum(fourth_buyer_data[\"Price\"]), sum(fifth_buyer_data[\"Price\"])]})\n",
    "                                  \n",
    "top_spenders_data = top_spenders_data.set_index(\"SN\").style.format({\"Average Purchase Price\": \"${0:,.2f}\", \"Total Purchase Value\": \"${0:,.2f}\"})\n",
    "top_spenders_data\n",
    "\n",
    "\n"
   ]
  },
  {
   "cell_type": "markdown",
   "metadata": {},
   "source": [
    "## Most Popular Items"
   ]
  },
  {
   "cell_type": "markdown",
   "metadata": {},
   "source": [
    "* Retrieve the Item ID, Item Name, and Item Price columns\n",
    "\n",
    "\n",
    "* Group by Item ID and Item Name. Perform calculations to obtain purchase count, item price, and total purchase value\n",
    "\n",
    "\n",
    "* Create a summary data frame to hold the results\n",
    "\n",
    "\n",
    "* Sort the purchase count column in descending order\n",
    "\n",
    "\n",
    "* Optional: give the displayed data cleaner formatting\n",
    "\n",
    "\n",
    "* Display a preview of the summary data frame\n",
    "\n"
   ]
  },
  {
   "cell_type": "code",
   "execution_count": 41,
   "metadata": {},
   "outputs": [
    {
     "data": {
      "text/html": [
       "<style  type=\"text/css\" >\n",
       "</style><table id=\"T_1a3c4596_a6a4_11ea_b6b6_acbc32a3d5bd\" ><thead>    <tr>        <th class=\"blank\" ></th>        <th class=\"blank level0\" ></th>        <th class=\"col_heading level0 col0\" >Purchase Count</th>        <th class=\"col_heading level0 col1\" >Item Price</th>        <th class=\"col_heading level0 col2\" >Total Purchase Value</th>    </tr>    <tr>        <th class=\"index_name level0\" >Item ID</th>        <th class=\"index_name level1\" >Item Name</th>        <th class=\"blank\" ></th>        <th class=\"blank\" ></th>        <th class=\"blank\" ></th>    </tr></thead><tbody>\n",
       "                <tr>\n",
       "                        <th id=\"T_1a3c4596_a6a4_11ea_b6b6_acbc32a3d5bdlevel0_row0\" class=\"row_heading level0 row0\" >178</th>\n",
       "                        <th id=\"T_1a3c4596_a6a4_11ea_b6b6_acbc32a3d5bdlevel1_row0\" class=\"row_heading level1 row0\" >Oathbreaker, Last Hope of the Breaking Storm</th>\n",
       "                        <td id=\"T_1a3c4596_a6a4_11ea_b6b6_acbc32a3d5bdrow0_col0\" class=\"data row0 col0\" >12</td>\n",
       "                        <td id=\"T_1a3c4596_a6a4_11ea_b6b6_acbc32a3d5bdrow0_col1\" class=\"data row0 col1\" >$4.23</td>\n",
       "                        <td id=\"T_1a3c4596_a6a4_11ea_b6b6_acbc32a3d5bdrow0_col2\" class=\"data row0 col2\" >$50.76</td>\n",
       "            </tr>\n",
       "            <tr>\n",
       "                        <th id=\"T_1a3c4596_a6a4_11ea_b6b6_acbc32a3d5bdlevel0_row1\" class=\"row_heading level0 row1\" >145</th>\n",
       "                        <th id=\"T_1a3c4596_a6a4_11ea_b6b6_acbc32a3d5bdlevel1_row1\" class=\"row_heading level1 row1\" >Fiery Glass Crusader</th>\n",
       "                        <td id=\"T_1a3c4596_a6a4_11ea_b6b6_acbc32a3d5bdrow1_col0\" class=\"data row1 col0\" >9</td>\n",
       "                        <td id=\"T_1a3c4596_a6a4_11ea_b6b6_acbc32a3d5bdrow1_col1\" class=\"data row1 col1\" >$4.58</td>\n",
       "                        <td id=\"T_1a3c4596_a6a4_11ea_b6b6_acbc32a3d5bdrow1_col2\" class=\"data row1 col2\" >$41.22</td>\n",
       "            </tr>\n",
       "            <tr>\n",
       "                        <th id=\"T_1a3c4596_a6a4_11ea_b6b6_acbc32a3d5bdlevel0_row2\" class=\"row_heading level0 row2\" >108</th>\n",
       "                        <th id=\"T_1a3c4596_a6a4_11ea_b6b6_acbc32a3d5bdlevel1_row2\" class=\"row_heading level1 row2\" >Extraction, Quickblade Of Trembling Hands</th>\n",
       "                        <td id=\"T_1a3c4596_a6a4_11ea_b6b6_acbc32a3d5bdrow2_col0\" class=\"data row2 col0\" >9</td>\n",
       "                        <td id=\"T_1a3c4596_a6a4_11ea_b6b6_acbc32a3d5bdrow2_col1\" class=\"data row2 col1\" >$3.53</td>\n",
       "                        <td id=\"T_1a3c4596_a6a4_11ea_b6b6_acbc32a3d5bdrow2_col2\" class=\"data row2 col2\" >$31.77</td>\n",
       "            </tr>\n",
       "            <tr>\n",
       "                        <th id=\"T_1a3c4596_a6a4_11ea_b6b6_acbc32a3d5bdlevel0_row3\" class=\"row_heading level0 row3\" >82</th>\n",
       "                        <th id=\"T_1a3c4596_a6a4_11ea_b6b6_acbc32a3d5bdlevel1_row3\" class=\"row_heading level1 row3\" >Nirvana</th>\n",
       "                        <td id=\"T_1a3c4596_a6a4_11ea_b6b6_acbc32a3d5bdrow3_col0\" class=\"data row3 col0\" >9</td>\n",
       "                        <td id=\"T_1a3c4596_a6a4_11ea_b6b6_acbc32a3d5bdrow3_col1\" class=\"data row3 col1\" >$4.90</td>\n",
       "                        <td id=\"T_1a3c4596_a6a4_11ea_b6b6_acbc32a3d5bdrow3_col2\" class=\"data row3 col2\" >$44.10</td>\n",
       "            </tr>\n",
       "            <tr>\n",
       "                        <th id=\"T_1a3c4596_a6a4_11ea_b6b6_acbc32a3d5bdlevel0_row4\" class=\"row_heading level0 row4\" >19</th>\n",
       "                        <th id=\"T_1a3c4596_a6a4_11ea_b6b6_acbc32a3d5bdlevel1_row4\" class=\"row_heading level1 row4\" >Pursuit, Cudgel of Necromancy</th>\n",
       "                        <td id=\"T_1a3c4596_a6a4_11ea_b6b6_acbc32a3d5bdrow4_col0\" class=\"data row4 col0\" >8</td>\n",
       "                        <td id=\"T_1a3c4596_a6a4_11ea_b6b6_acbc32a3d5bdrow4_col1\" class=\"data row4 col1\" >$1.02</td>\n",
       "                        <td id=\"T_1a3c4596_a6a4_11ea_b6b6_acbc32a3d5bdrow4_col2\" class=\"data row4 col2\" >$8.16</td>\n",
       "            </tr>\n",
       "    </tbody></table>"
      ],
      "text/plain": [
       "<pandas.io.formats.style.Styler at 0x11884f490>"
      ]
     },
     "execution_count": 41,
     "metadata": {},
     "output_type": "execute_result"
    }
   ],
   "source": [
    "popular_items = purchase_data[[\"Item ID\", \"Item Name\", \"Price\"]]\n",
    "popular_items = popular_items.groupby([\"Item ID\", \"Item Name\"])\n",
    "popular_items = popular_items.count()\n",
    "popular_items = popular_items.sort_values([\"Price\"], ascending=False)\n",
    "popular_items = popular_items.reset_index()\n",
    "\n",
    "first_item = popular_items.iloc[0,0]\n",
    "second_item = popular_items.iloc[1,0]\n",
    "third_item = popular_items.iloc[2,0]\n",
    "fourth_item = popular_items.iloc[3,0]\n",
    "fifth_item = popular_items.iloc[4,0]\n",
    "\n",
    "first_item_data = purchase_data.loc[purchase_data[\"Item ID\"] == first_item]\n",
    "second_item_data = purchase_data.loc[purchase_data[\"Item ID\"] == second_item]\n",
    "third_item_data = purchase_data.loc[purchase_data[\"Item ID\"] == third_item]\n",
    "fourth_item_data = purchase_data.loc[purchase_data[\"Item ID\"] == fourth_item]\n",
    "fifth_item_data = purchase_data.loc[purchase_data[\"Item ID\"] == fifth_item]\n",
    "\n",
    "popular_items_summary = pd.DataFrame({\"Item ID\": [first_item, second_item, third_item, fourth_item, fifth_item],\n",
    "                                      \"Item Name\": [first_item_data.iloc[0,5], second_item_data.iloc[0,5], third_item_data.iloc[0,5], fourth_item_data.iloc[0,5], fifth_item_data.iloc[0,5]],\n",
    "                                      \"Purchase Count\": [len(first_item_data), len(second_item_data), len(third_item_data), len(fourth_item_data), len(fifth_item_data)],\n",
    "                                      \"Item Price\": [first_item_data.iloc[0,6], second_item_data.iloc[0,6], third_item_data.iloc[0,6], fourth_item_data.iloc[0,6], fifth_item_data.iloc[0,6]],\n",
    "                                      \"Total Purchase Value\": [sum(first_item_data[\"Price\"]), sum(second_item_data[\"Price\"]), sum(third_item_data[\"Price\"]), sum(fourth_item_data[\"Price\"]), sum(fifth_item_data[\"Price\"])]})\n",
    "\n",
    "popular_items_summary = popular_items_summary.set_index([\"Item ID\", \"Item Name\"]).style.format({\"Item Price\": \"${0:,.2f}\", \"Total Purchase Value\": \"${0:,.2f}\"})\n",
    "\n",
    "popular_items_summary\n",
    "\n"
   ]
  },
  {
   "cell_type": "markdown",
   "metadata": {},
   "source": [
    "## Most Profitable Items"
   ]
  },
  {
   "cell_type": "markdown",
   "metadata": {},
   "source": [
    "* Sort the above table by total purchase value in descending order\n",
    "\n",
    "\n",
    "* Optional: give the displayed data cleaner formatting\n",
    "\n",
    "\n",
    "* Display a preview of the data frame\n",
    "\n"
   ]
  },
  {
   "cell_type": "code",
   "execution_count": 42,
   "metadata": {
    "scrolled": true
   },
   "outputs": [
    {
     "data": {
      "text/html": [
       "<style  type=\"text/css\" >\n",
       "</style><table id=\"T_27c2c974_a6a4_11ea_b6b6_acbc32a3d5bd\" ><thead>    <tr>        <th class=\"blank\" ></th>        <th class=\"blank level0\" ></th>        <th class=\"col_heading level0 col0\" >Purchase Count</th>        <th class=\"col_heading level0 col1\" >Item Price</th>        <th class=\"col_heading level0 col2\" >Total Purchase Value</th>    </tr>    <tr>        <th class=\"index_name level0\" >Item ID</th>        <th class=\"index_name level1\" >Item Name</th>        <th class=\"blank\" ></th>        <th class=\"blank\" ></th>        <th class=\"blank\" ></th>    </tr></thead><tbody>\n",
       "                <tr>\n",
       "                        <th id=\"T_27c2c974_a6a4_11ea_b6b6_acbc32a3d5bdlevel0_row0\" class=\"row_heading level0 row0\" >178</th>\n",
       "                        <th id=\"T_27c2c974_a6a4_11ea_b6b6_acbc32a3d5bdlevel1_row0\" class=\"row_heading level1 row0\" >Oathbreaker, Last Hope of the Breaking Storm</th>\n",
       "                        <td id=\"T_27c2c974_a6a4_11ea_b6b6_acbc32a3d5bdrow0_col0\" class=\"data row0 col0\" >12</td>\n",
       "                        <td id=\"T_27c2c974_a6a4_11ea_b6b6_acbc32a3d5bdrow0_col1\" class=\"data row0 col1\" >$4.23</td>\n",
       "                        <td id=\"T_27c2c974_a6a4_11ea_b6b6_acbc32a3d5bdrow0_col2\" class=\"data row0 col2\" >$50.76</td>\n",
       "            </tr>\n",
       "            <tr>\n",
       "                        <th id=\"T_27c2c974_a6a4_11ea_b6b6_acbc32a3d5bdlevel0_row1\" class=\"row_heading level0 row1\" >82</th>\n",
       "                        <th id=\"T_27c2c974_a6a4_11ea_b6b6_acbc32a3d5bdlevel1_row1\" class=\"row_heading level1 row1\" >Nirvana</th>\n",
       "                        <td id=\"T_27c2c974_a6a4_11ea_b6b6_acbc32a3d5bdrow1_col0\" class=\"data row1 col0\" >9</td>\n",
       "                        <td id=\"T_27c2c974_a6a4_11ea_b6b6_acbc32a3d5bdrow1_col1\" class=\"data row1 col1\" >$4.90</td>\n",
       "                        <td id=\"T_27c2c974_a6a4_11ea_b6b6_acbc32a3d5bdrow1_col2\" class=\"data row1 col2\" >$44.10</td>\n",
       "            </tr>\n",
       "            <tr>\n",
       "                        <th id=\"T_27c2c974_a6a4_11ea_b6b6_acbc32a3d5bdlevel0_row2\" class=\"row_heading level0 row2\" >145</th>\n",
       "                        <th id=\"T_27c2c974_a6a4_11ea_b6b6_acbc32a3d5bdlevel1_row2\" class=\"row_heading level1 row2\" >Fiery Glass Crusader</th>\n",
       "                        <td id=\"T_27c2c974_a6a4_11ea_b6b6_acbc32a3d5bdrow2_col0\" class=\"data row2 col0\" >9</td>\n",
       "                        <td id=\"T_27c2c974_a6a4_11ea_b6b6_acbc32a3d5bdrow2_col1\" class=\"data row2 col1\" >$4.58</td>\n",
       "                        <td id=\"T_27c2c974_a6a4_11ea_b6b6_acbc32a3d5bdrow2_col2\" class=\"data row2 col2\" >$41.22</td>\n",
       "            </tr>\n",
       "            <tr>\n",
       "                        <th id=\"T_27c2c974_a6a4_11ea_b6b6_acbc32a3d5bdlevel0_row3\" class=\"row_heading level0 row3\" >92</th>\n",
       "                        <th id=\"T_27c2c974_a6a4_11ea_b6b6_acbc32a3d5bdlevel1_row3\" class=\"row_heading level1 row3\" >Final Critic</th>\n",
       "                        <td id=\"T_27c2c974_a6a4_11ea_b6b6_acbc32a3d5bdrow3_col0\" class=\"data row3 col0\" >8</td>\n",
       "                        <td id=\"T_27c2c974_a6a4_11ea_b6b6_acbc32a3d5bdrow3_col1\" class=\"data row3 col1\" >$4.88</td>\n",
       "                        <td id=\"T_27c2c974_a6a4_11ea_b6b6_acbc32a3d5bdrow3_col2\" class=\"data row3 col2\" >$39.04</td>\n",
       "            </tr>\n",
       "            <tr>\n",
       "                        <th id=\"T_27c2c974_a6a4_11ea_b6b6_acbc32a3d5bdlevel0_row4\" class=\"row_heading level0 row4\" >103</th>\n",
       "                        <th id=\"T_27c2c974_a6a4_11ea_b6b6_acbc32a3d5bdlevel1_row4\" class=\"row_heading level1 row4\" >Singed Scalpel</th>\n",
       "                        <td id=\"T_27c2c974_a6a4_11ea_b6b6_acbc32a3d5bdrow4_col0\" class=\"data row4 col0\" >8</td>\n",
       "                        <td id=\"T_27c2c974_a6a4_11ea_b6b6_acbc32a3d5bdrow4_col1\" class=\"data row4 col1\" >$4.35</td>\n",
       "                        <td id=\"T_27c2c974_a6a4_11ea_b6b6_acbc32a3d5bdrow4_col2\" class=\"data row4 col2\" >$34.80</td>\n",
       "            </tr>\n",
       "    </tbody></table>"
      ],
      "text/plain": [
       "<pandas.io.formats.style.Styler at 0x11884f650>"
      ]
     },
     "execution_count": 42,
     "metadata": {},
     "output_type": "execute_result"
    }
   ],
   "source": [
    "profitable_items = purchase_data[[\"Item ID\", \"Item Name\", \"Price\"]]\n",
    "profitable_items = profitable_items.groupby([\"Item ID\", \"Item Name\"])\n",
    "profitable_items = profitable_items.sum()\n",
    "profitable_items = profitable_items.sort_values([\"Price\"], ascending=False)\n",
    "profitable_items = profitable_items.reset_index()\n",
    "\n",
    "first_item = profitable_items.iloc[0,0]\n",
    "second_item = profitable_items.iloc[1,0]\n",
    "third_item = profitable_items.iloc[2,0]\n",
    "fourth_item = profitable_items.iloc[3,0]\n",
    "fifth_item = profitable_items.iloc[4,0]\n",
    "\n",
    "first_item_data = purchase_data.loc[purchase_data[\"Item ID\"] == first_item]\n",
    "second_item_data = purchase_data.loc[purchase_data[\"Item ID\"] == second_item]\n",
    "third_item_data = purchase_data.loc[purchase_data[\"Item ID\"] == third_item]\n",
    "fourth_item_data = purchase_data.loc[purchase_data[\"Item ID\"] == fourth_item]\n",
    "fifth_item_data = purchase_data.loc[purchase_data[\"Item ID\"] == fifth_item]\n",
    "\n",
    "profitable_items_summary = pd.DataFrame({\"Item ID\": [first_item, second_item, third_item, fourth_item, fifth_item],\n",
    "                                         \"Item Name\": [first_item_data.iloc[0,5], second_item_data.iloc[0,5], third_item_data.iloc[0,5], fourth_item_data.iloc[0,5], fifth_item_data.iloc[0,5]],\n",
    "                                         \"Purchase Count\": [len(first_item_data), len(second_item_data), len(third_item_data), len(fourth_item_data), len(fifth_item_data)],\n",
    "                                         \"Item Price\": [first_item_data.iloc[0,6], second_item_data.iloc[0,6], third_item_data.iloc[0,6], fourth_item_data.iloc[0,6], fifth_item_data.iloc[0,6]],\n",
    "                                         \"Total Purchase Value\": [sum(first_item_data[\"Price\"]), sum(second_item_data[\"Price\"]), sum(third_item_data[\"Price\"]), sum(fourth_item_data[\"Price\"]), sum(fifth_item_data[\"Price\"])]})\n",
    "\n",
    "profitable_items_summary = profitable_items_summary.set_index([\"Item ID\", \"Item Name\"]).style.format({\"Item Price\": \"${0:,.2f}\", \"Total Purchase Value\": \"${0:,.2f}\"})\n",
    "\n",
    "profitable_items_summary\n",
    "\n"
   ]
  },
  {
   "cell_type": "code",
   "execution_count": 52,
   "metadata": {},
   "outputs": [],
   "source": [
    "trends_txt = open(\"HeroesOfPymoliTrends.txt\", \"w\")\n",
    "trends_txt.write(\"\\n\")\n",
    "trends_txt.write(\"FIRST OBSERVABLE TREND:\")\n",
    "trends_txt.write(\"\\n\")\n",
    "trends_txt.write(\"Most of the players of Heroes of Pymoli are male, and they are more likely to be between the ages of 20 and 24 than any other age.\")\n",
    "trends_txt.write(\"\\n\")\n",
    "trends_txt.write(\"\\n\")\n",
    "trends_txt.write(\"\\n\")\n",
    "trends_txt.write(\"SECOND OBSERVABLE TREND:\")\n",
    "trends_txt.write(\"\\n\")\n",
    "trends_txt.write(\"Female players of Heroes of Pymoli account for fewer item purchases than male players, but they tend to buy more expensive items.\")\n",
    "trends_txt.write(\"\\n\")\n",
    "trends_txt.write(\"\\n\")\n",
    "trends_txt.write(\"\\n\")\n",
    "trends_txt.write(\"THIRD OBSERVABLE TREND:\")\n",
    "trends_txt.write(\"\\n\")\n",
    "trends_txt.write(\"The makers of Heroes of Pymoli may have an opportunity to increase profits by raising the prices of 'Pursuit, Cudgel of Necromancy' and 'Extraction, Quickblade Of Trembling Hands.' They are the lowest-priced of the game's five most popular items, and neither is currently among the game's five most profitable items.\")\n",
    "trends_txt.close()"
   ]
  },
  {
   "cell_type": "code",
   "execution_count": null,
   "metadata": {},
   "outputs": [],
   "source": []
  }
 ],
 "metadata": {
  "anaconda-cloud": {},
  "kernel_info": {
   "name": "python3"
  },
  "kernelspec": {
   "display_name": "Python 3",
   "language": "python",
   "name": "python3"
  },
  "language_info": {
   "codemirror_mode": {
    "name": "ipython",
    "version": 3
   },
   "file_extension": ".py",
   "mimetype": "text/x-python",
   "name": "python",
   "nbconvert_exporter": "python",
   "pygments_lexer": "ipython3",
   "version": "3.7.6"
  },
  "latex_envs": {
   "LaTeX_envs_menu_present": true,
   "autoclose": false,
   "autocomplete": true,
   "bibliofile": "biblio.bib",
   "cite_by": "apalike",
   "current_citInitial": 1,
   "eqLabelWithNumbers": true,
   "eqNumInitial": 1,
   "hotkeys": {
    "equation": "Ctrl-E",
    "itemize": "Ctrl-I"
   },
   "labels_anchors": false,
   "latex_user_defs": false,
   "report_style_numbering": false,
   "user_envs_cfg": false
  },
  "nteract": {
   "version": "0.2.0"
  }
 },
 "nbformat": 4,
 "nbformat_minor": 2
}
